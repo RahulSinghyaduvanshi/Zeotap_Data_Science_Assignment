{
 "cells": [
  {
   "cell_type": "code",
   "execution_count": 14,
   "id": "da927266",
   "metadata": {},
   "outputs": [],
   "source": [
    "import pandas as pd\n",
    "from sklearn.metrics.pairwise import cosine_similarity\n",
    "from sklearn.preprocessing import StandardScaler\n",
    "from sklearn.preprocessing import OneHotEncoder\n",
    "import numpy as np"
   ]
  },
  {
   "cell_type": "code",
   "execution_count": 2,
   "id": "e870b37f",
   "metadata": {},
   "outputs": [],
   "source": [
    "##Loading the datsets\n",
    "customers_df= pd.read_csv(\"C:/Users/Rahul Thakur/Downloads/Customers.csv\")\n",
    "products_df= pd.read_csv(\"C:/Users/Rahul Thakur/Downloads/Products.csv\")\n",
    "transactions_df = pd.read_csv(\"C:/Users/Rahul Thakur/Downloads/Transactions.csv\")"
   ]
  },
  {
   "cell_type": "code",
   "execution_count": 3,
   "id": "67f1aa49",
   "metadata": {},
   "outputs": [],
   "source": [
    "\n",
    "# Merge transactions with product data to get product category information\n",
    "transactions_df = pd.merge(transactions_df, products_df[['ProductID', 'Category']], on='ProductID', how='left')"
   ]
  },
  {
   "cell_type": "code",
   "execution_count": 4,
   "id": "cb9ad737",
   "metadata": {},
   "outputs": [],
   "source": [
    "# Step 1: Aggregate customer data for total spend, transaction count, and category-wise spending\n",
    "customer_transactions = transactions_df.groupby('CustomerID').agg(\n",
    "    total_spend=('TotalValue', 'sum'),\n",
    "    transaction_count=('TransactionID', 'count')\n",
    ").reset_index()"
   ]
  },
  {
   "cell_type": "code",
   "execution_count": 5,
   "id": "1c264a29",
   "metadata": {},
   "outputs": [],
   "source": [
    "# Aggregate by product category for each customer (how much each customer spent per category)\n",
    "category_spend = transactions_df.groupby(['CustomerID', 'Category'])['TotalValue'].sum().unstack().fillna(0)\n",
    "\n",
    "# Merge customer profile with category spend data\n",
    "customer_profile = pd.merge(customers_df[['CustomerID', 'Region']], customer_transactions, on='CustomerID')\n",
    "customer_profile = pd.merge(customer_profile, category_spend, on='CustomerID')\n"
   ]
  },
  {
   "cell_type": "code",
   "execution_count": 6,
   "id": "66049c14",
   "metadata": {},
   "outputs": [],
   "source": [
    "# Step 2: Normalize the numeric features (total_spend, transaction_count, category spend)\n",
    "scaler = StandardScaler()\n",
    "customer_profile[['total_spend', 'transaction_count'] + list(category_spend.columns)] = scaler.fit_transform(\n",
    "    customer_profile[['total_spend', 'transaction_count'] + list(category_spend.columns)]\n",
    ")\n"
   ]
  },
  {
   "cell_type": "code",
   "execution_count": 7,
   "id": "eede16fd",
   "metadata": {},
   "outputs": [
    {
     "name": "stderr",
     "output_type": "stream",
     "text": [
      "C:\\ProgramData\\anaconda3\\lib\\site-packages\\sklearn\\preprocessing\\_encoders.py:828: FutureWarning: `sparse` was renamed to `sparse_output` in version 1.2 and will be removed in 1.4. `sparse_output` is ignored unless you leave `sparse` to its default value.\n",
      "  warnings.warn(\n"
     ]
    }
   ],
   "source": [
    "# Step 3: One-hot encode the 'Region' feature\n",
    "encoder = OneHotEncoder(drop='first', sparse=False)\n",
    "region_encoded = encoder.fit_transform(customer_profile[['Region']])\n",
    "region_columns = encoder.categories_[0][1:]\n",
    "\n",
    "region_df = pd.DataFrame(region_encoded, columns=region_columns)\n",
    "customer_profile = pd.concat([customer_profile, region_df], axis=1)\n"
   ]
  },
  {
   "cell_type": "code",
   "execution_count": 8,
   "id": "b9e8baf2",
   "metadata": {},
   "outputs": [],
   "source": [
    "# Step 4: Create feature matrix for similarity calculation\n",
    "features = ['total_spend', 'transaction_count'] + list(category_spend.columns) + list(region_df.columns)\n"
   ]
  },
  {
   "cell_type": "code",
   "execution_count": 9,
   "id": "dd1d9ee0",
   "metadata": {},
   "outputs": [],
   "source": [
    "# Create the feature matrix\n",
    "customer_features = customer_profile[features]\n"
   ]
  },
  {
   "cell_type": "code",
   "execution_count": 10,
   "id": "f7a7791b",
   "metadata": {},
   "outputs": [],
   "source": [
    "# Step 5: Calculate cosine similarity between customers\n",
    "similarity_matrix = cosine_similarity(customer_features)\n"
   ]
  },
  {
   "cell_type": "code",
   "execution_count": 11,
   "id": "9944f831",
   "metadata": {},
   "outputs": [],
   "source": [
    "# Step 6: Get top 3 similar customers for each customer (C0001 to C0020)\n",
    "lookalike_dict = {}\n",
    "\n",
    "for i, customer_id in enumerate(customers_df['CustomerID'][:20]):  # For customers C0001 to C0020\n",
    "    # Get similarity scores for the current customer\n",
    "    similarity_scores = similarity_matrix[i]\n",
    "    \n",
    "    # Sort the similarity scores in descending order and exclude the customer itself (index i)\n",
    "    similar_indices = similarity_scores.argsort()[::-1][1:4]  # Skip the first one as it's the customer itself\n",
    "    \n",
    "    # Get the CustomerID and similarity score for the top 3 similar customers\n",
    "    similar_customers = [(customers_df.iloc[j]['CustomerID'], similarity_scores[j]) for j in similar_indices]\n",
    "    \n",
    "    # Store the top 3 similar customers and their similarity scores\n",
    "    lookalike_dict[customer_id] = similar_customers"
   ]
  },
  {
   "cell_type": "code",
   "execution_count": 12,
   "id": "8ae33b70",
   "metadata": {},
   "outputs": [],
   "source": [
    "# Step 7: Convert the lookalike recommendations into a DataFrame for easy export\n",
    "lookalike_data = []\n",
    "\n",
    "for cust_id, similar_customers in lookalike_dict.items():\n",
    "    for idx, (lookalike_id, score) in enumerate(similar_customers):\n",
    "        lookalike_data.append([cust_id, lookalike_id, score])\n",
    "\n",
    "lookalike_df = pd.DataFrame(lookalike_data, columns=['CustomerID', 'LookalikeCustomerID', 'SimilarityScore'])"
   ]
  },
  {
   "cell_type": "code",
   "execution_count": 13,
   "id": "73d150a3",
   "metadata": {},
   "outputs": [
    {
     "name": "stdout",
     "output_type": "stream",
     "text": [
      "Lookalike recommendations have been saved to 'Lookalike.csv'.\n"
     ]
    }
   ],
   "source": [
    "# Step 8: Save the recommendations to a CSV file\n",
    "lookalike_df.to_csv('Lookalike.csv', index=False)\n",
    "\n",
    "print(\"Lookalike recommendations have been saved to 'Lookalike.csv'.\")\n"
   ]
  },
  {
   "cell_type": "code",
   "execution_count": null,
   "id": "c2e73432",
   "metadata": {},
   "outputs": [],
   "source": []
  }
 ],
 "metadata": {
  "kernelspec": {
   "display_name": "Python 3 (ipykernel)",
   "language": "python",
   "name": "python3"
  },
  "language_info": {
   "codemirror_mode": {
    "name": "ipython",
    "version": 3
   },
   "file_extension": ".py",
   "mimetype": "text/x-python",
   "name": "python",
   "nbconvert_exporter": "python",
   "pygments_lexer": "ipython3",
   "version": "3.10.9"
  }
 },
 "nbformat": 4,
 "nbformat_minor": 5
}
